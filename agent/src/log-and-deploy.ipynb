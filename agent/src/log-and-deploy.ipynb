{
 "cells": [
  {
   "cell_type": "code",
   "execution_count": 1,
   "metadata": {
    "application/vnd.databricks.v1+cell": {
     "cellMetadata": {
      "byteLimit": 2048000,
      "rowLimit": 10000
     },
     "inputWidgets": {},
     "nuid": "2216e1c0-52c1-4875-af03-d6b310682d93",
     "showTitle": false,
     "tableResultSettingsMap": {},
     "title": ""
    },
    "jupyter": {
     "outputs_hidden": true
    }
   },
   "outputs": [
    {
     "name": "stdout",
     "output_type": "stream",
     "text": [
      "Requirement already satisfied: mlflow>=3.1.0 in /Users/stuart.lynn/Projects/u2m-experiment/agent/.venv/lib/python3.12/site-packages (from mlflow[databricks]>=3.1.0->-r requirements.txt (line 1)) (3.2.0)\n",
      "Requirement already satisfied: databricks-langchain>=0.6.0 in /Users/stuart.lynn/Projects/u2m-experiment/agent/.venv/lib/python3.12/site-packages (from -r requirements.txt (line 2)) (0.7.0)\n",
      "Requirement already satisfied: langchain-core>=0.3.74 in /Users/stuart.lynn/Projects/u2m-experiment/agent/.venv/lib/python3.12/site-packages (from -r requirements.txt (line 3)) (0.3.74)\n",
      "Requirement already satisfied: databricks-sdk>=0.63.0 in /Users/stuart.lynn/Projects/u2m-experiment/agent/.venv/lib/python3.12/site-packages (from -r requirements.txt (line 4)) (0.63.0)\n",
      "Requirement already satisfied: uv in /Users/stuart.lynn/Projects/u2m-experiment/agent/.venv/lib/python3.12/site-packages (from -r requirements.txt (line 5)) (0.8.12)\n",
      "Requirement already satisfied: mlflow-skinny==3.2.0 in /Users/stuart.lynn/Projects/u2m-experiment/agent/.venv/lib/python3.12/site-packages (from mlflow>=3.1.0->mlflow[databricks]>=3.1.0->-r requirements.txt (line 1)) (3.2.0)\n",
      "Requirement already satisfied: mlflow-tracing==3.2.0 in /Users/stuart.lynn/Projects/u2m-experiment/agent/.venv/lib/python3.12/site-packages (from mlflow>=3.1.0->mlflow[databricks]>=3.1.0->-r requirements.txt (line 1)) (3.2.0)\n",
      "Requirement already satisfied: Flask<4 in /Users/stuart.lynn/Projects/u2m-experiment/agent/.venv/lib/python3.12/site-packages (from mlflow>=3.1.0->mlflow[databricks]>=3.1.0->-r requirements.txt (line 1)) (3.1.1)\n",
      "Requirement already satisfied: alembic!=1.10.0,<2 in /Users/stuart.lynn/Projects/u2m-experiment/agent/.venv/lib/python3.12/site-packages (from mlflow>=3.1.0->mlflow[databricks]>=3.1.0->-r requirements.txt (line 1)) (1.16.4)\n",
      "Requirement already satisfied: docker<8,>=4.0.0 in /Users/stuart.lynn/Projects/u2m-experiment/agent/.venv/lib/python3.12/site-packages (from mlflow>=3.1.0->mlflow[databricks]>=3.1.0->-r requirements.txt (line 1)) (7.1.0)\n",
      "Requirement already satisfied: graphene<4 in /Users/stuart.lynn/Projects/u2m-experiment/agent/.venv/lib/python3.12/site-packages (from mlflow>=3.1.0->mlflow[databricks]>=3.1.0->-r requirements.txt (line 1)) (3.4.3)\n",
      "Requirement already satisfied: gunicorn<24 in /Users/stuart.lynn/Projects/u2m-experiment/agent/.venv/lib/python3.12/site-packages (from mlflow>=3.1.0->mlflow[databricks]>=3.1.0->-r requirements.txt (line 1)) (23.0.0)\n",
      "Requirement already satisfied: matplotlib<4 in /Users/stuart.lynn/Projects/u2m-experiment/agent/.venv/lib/python3.12/site-packages (from mlflow>=3.1.0->mlflow[databricks]>=3.1.0->-r requirements.txt (line 1)) (3.10.5)\n",
      "Requirement already satisfied: numpy<3 in /Users/stuart.lynn/Projects/u2m-experiment/agent/.venv/lib/python3.12/site-packages (from mlflow>=3.1.0->mlflow[databricks]>=3.1.0->-r requirements.txt (line 1)) (1.26.4)\n",
      "Requirement already satisfied: pandas<3 in /Users/stuart.lynn/Projects/u2m-experiment/agent/.venv/lib/python3.12/site-packages (from mlflow>=3.1.0->mlflow[databricks]>=3.1.0->-r requirements.txt (line 1)) (2.3.1)\n",
      "Requirement already satisfied: pyarrow<22,>=4.0.0 in /Users/stuart.lynn/Projects/u2m-experiment/agent/.venv/lib/python3.12/site-packages (from mlflow>=3.1.0->mlflow[databricks]>=3.1.0->-r requirements.txt (line 1)) (21.0.0)\n",
      "Requirement already satisfied: scikit-learn<2 in /Users/stuart.lynn/Projects/u2m-experiment/agent/.venv/lib/python3.12/site-packages (from mlflow>=3.1.0->mlflow[databricks]>=3.1.0->-r requirements.txt (line 1)) (1.7.1)\n",
      "Requirement already satisfied: scipy<2 in /Users/stuart.lynn/Projects/u2m-experiment/agent/.venv/lib/python3.12/site-packages (from mlflow>=3.1.0->mlflow[databricks]>=3.1.0->-r requirements.txt (line 1)) (1.16.1)\n",
      "Requirement already satisfied: sqlalchemy<3,>=1.4.0 in /Users/stuart.lynn/Projects/u2m-experiment/agent/.venv/lib/python3.12/site-packages (from mlflow>=3.1.0->mlflow[databricks]>=3.1.0->-r requirements.txt (line 1)) (2.0.43)\n",
      "Requirement already satisfied: cachetools<7,>=5.0.0 in /Users/stuart.lynn/Projects/u2m-experiment/agent/.venv/lib/python3.12/site-packages (from mlflow-skinny==3.2.0->mlflow>=3.1.0->mlflow[databricks]>=3.1.0->-r requirements.txt (line 1)) (5.5.2)\n",
      "Requirement already satisfied: click<9,>=7.0 in /Users/stuart.lynn/Projects/u2m-experiment/agent/.venv/lib/python3.12/site-packages (from mlflow-skinny==3.2.0->mlflow>=3.1.0->mlflow[databricks]>=3.1.0->-r requirements.txt (line 1)) (8.2.1)\n",
      "Requirement already satisfied: cloudpickle<4 in /Users/stuart.lynn/Projects/u2m-experiment/agent/.venv/lib/python3.12/site-packages (from mlflow-skinny==3.2.0->mlflow>=3.1.0->mlflow[databricks]>=3.1.0->-r requirements.txt (line 1)) (3.1.1)\n",
      "Requirement already satisfied: fastapi<1 in /Users/stuart.lynn/Projects/u2m-experiment/agent/.venv/lib/python3.12/site-packages (from mlflow-skinny==3.2.0->mlflow>=3.1.0->mlflow[databricks]>=3.1.0->-r requirements.txt (line 1)) (0.116.1)\n",
      "Requirement already satisfied: gitpython<4,>=3.1.9 in /Users/stuart.lynn/Projects/u2m-experiment/agent/.venv/lib/python3.12/site-packages (from mlflow-skinny==3.2.0->mlflow>=3.1.0->mlflow[databricks]>=3.1.0->-r requirements.txt (line 1)) (3.1.45)\n",
      "Requirement already satisfied: importlib_metadata!=4.7.0,<9,>=3.7.0 in /Users/stuart.lynn/Projects/u2m-experiment/agent/.venv/lib/python3.12/site-packages (from mlflow-skinny==3.2.0->mlflow>=3.1.0->mlflow[databricks]>=3.1.0->-r requirements.txt (line 1)) (8.7.0)\n",
      "Requirement already satisfied: opentelemetry-api<3,>=1.9.0 in /Users/stuart.lynn/Projects/u2m-experiment/agent/.venv/lib/python3.12/site-packages (from mlflow-skinny==3.2.0->mlflow>=3.1.0->mlflow[databricks]>=3.1.0->-r requirements.txt (line 1)) (1.36.0)\n",
      "Requirement already satisfied: opentelemetry-sdk<3,>=1.9.0 in /Users/stuart.lynn/Projects/u2m-experiment/agent/.venv/lib/python3.12/site-packages (from mlflow-skinny==3.2.0->mlflow>=3.1.0->mlflow[databricks]>=3.1.0->-r requirements.txt (line 1)) (1.36.0)\n",
      "Requirement already satisfied: packaging<26 in /Users/stuart.lynn/Projects/u2m-experiment/agent/.venv/lib/python3.12/site-packages (from mlflow-skinny==3.2.0->mlflow>=3.1.0->mlflow[databricks]>=3.1.0->-r requirements.txt (line 1)) (25.0)\n",
      "Requirement already satisfied: protobuf<7,>=3.12.0 in /Users/stuart.lynn/Projects/u2m-experiment/agent/.venv/lib/python3.12/site-packages (from mlflow-skinny==3.2.0->mlflow>=3.1.0->mlflow[databricks]>=3.1.0->-r requirements.txt (line 1)) (5.29.5)\n",
      "Requirement already satisfied: pydantic<3,>=1.10.8 in /Users/stuart.lynn/Projects/u2m-experiment/agent/.venv/lib/python3.12/site-packages (from mlflow-skinny==3.2.0->mlflow>=3.1.0->mlflow[databricks]>=3.1.0->-r requirements.txt (line 1)) (2.11.7)\n",
      "Requirement already satisfied: pyyaml<7,>=5.1 in /Users/stuart.lynn/Projects/u2m-experiment/agent/.venv/lib/python3.12/site-packages (from mlflow-skinny==3.2.0->mlflow>=3.1.0->mlflow[databricks]>=3.1.0->-r requirements.txt (line 1)) (6.0.2)\n",
      "Requirement already satisfied: requests<3,>=2.17.3 in /Users/stuart.lynn/Projects/u2m-experiment/agent/.venv/lib/python3.12/site-packages (from mlflow-skinny==3.2.0->mlflow>=3.1.0->mlflow[databricks]>=3.1.0->-r requirements.txt (line 1)) (2.32.5)\n",
      "Requirement already satisfied: sqlparse<1,>=0.4.0 in /Users/stuart.lynn/Projects/u2m-experiment/agent/.venv/lib/python3.12/site-packages (from mlflow-skinny==3.2.0->mlflow>=3.1.0->mlflow[databricks]>=3.1.0->-r requirements.txt (line 1)) (0.5.3)\n",
      "Requirement already satisfied: typing-extensions<5,>=4.0.0 in /Users/stuart.lynn/Projects/u2m-experiment/agent/.venv/lib/python3.12/site-packages (from mlflow-skinny==3.2.0->mlflow>=3.1.0->mlflow[databricks]>=3.1.0->-r requirements.txt (line 1)) (4.14.1)\n",
      "Requirement already satisfied: uvicorn<1 in /Users/stuart.lynn/Projects/u2m-experiment/agent/.venv/lib/python3.12/site-packages (from mlflow-skinny==3.2.0->mlflow>=3.1.0->mlflow[databricks]>=3.1.0->-r requirements.txt (line 1)) (0.35.0)\n",
      "Requirement already satisfied: google-auth~=2.0 in /Users/stuart.lynn/Projects/u2m-experiment/agent/.venv/lib/python3.12/site-packages (from databricks-sdk>=0.63.0->-r requirements.txt (line 4)) (2.40.3)\n",
      "Requirement already satisfied: Mako in /Users/stuart.lynn/Projects/u2m-experiment/agent/.venv/lib/python3.12/site-packages (from alembic!=1.10.0,<2->mlflow>=3.1.0->mlflow[databricks]>=3.1.0->-r requirements.txt (line 1)) (1.3.10)\n",
      "Requirement already satisfied: urllib3>=1.26.0 in /Users/stuart.lynn/Projects/u2m-experiment/agent/.venv/lib/python3.12/site-packages (from docker<8,>=4.0.0->mlflow>=3.1.0->mlflow[databricks]>=3.1.0->-r requirements.txt (line 1)) (2.5.0)\n",
      "Requirement already satisfied: starlette<0.48.0,>=0.40.0 in /Users/stuart.lynn/Projects/u2m-experiment/agent/.venv/lib/python3.12/site-packages (from fastapi<1->mlflow-skinny==3.2.0->mlflow>=3.1.0->mlflow[databricks]>=3.1.0->-r requirements.txt (line 1)) (0.47.2)\n",
      "Requirement already satisfied: blinker>=1.9.0 in /Users/stuart.lynn/Projects/u2m-experiment/agent/.venv/lib/python3.12/site-packages (from Flask<4->mlflow>=3.1.0->mlflow[databricks]>=3.1.0->-r requirements.txt (line 1)) (1.9.0)\n",
      "Requirement already satisfied: itsdangerous>=2.2.0 in /Users/stuart.lynn/Projects/u2m-experiment/agent/.venv/lib/python3.12/site-packages (from Flask<4->mlflow>=3.1.0->mlflow[databricks]>=3.1.0->-r requirements.txt (line 1)) (2.2.0)\n",
      "Requirement already satisfied: jinja2>=3.1.2 in /Users/stuart.lynn/Projects/u2m-experiment/agent/.venv/lib/python3.12/site-packages (from Flask<4->mlflow>=3.1.0->mlflow[databricks]>=3.1.0->-r requirements.txt (line 1)) (3.1.6)\n",
      "Requirement already satisfied: markupsafe>=2.1.1 in /Users/stuart.lynn/Projects/u2m-experiment/agent/.venv/lib/python3.12/site-packages (from Flask<4->mlflow>=3.1.0->mlflow[databricks]>=3.1.0->-r requirements.txt (line 1)) (3.0.2)\n",
      "Requirement already satisfied: werkzeug>=3.1.0 in /Users/stuart.lynn/Projects/u2m-experiment/agent/.venv/lib/python3.12/site-packages (from Flask<4->mlflow>=3.1.0->mlflow[databricks]>=3.1.0->-r requirements.txt (line 1)) (3.1.3)\n",
      "Requirement already satisfied: gitdb<5,>=4.0.1 in /Users/stuart.lynn/Projects/u2m-experiment/agent/.venv/lib/python3.12/site-packages (from gitpython<4,>=3.1.9->mlflow-skinny==3.2.0->mlflow>=3.1.0->mlflow[databricks]>=3.1.0->-r requirements.txt (line 1)) (4.0.12)\n",
      "Requirement already satisfied: smmap<6,>=3.0.1 in /Users/stuart.lynn/Projects/u2m-experiment/agent/.venv/lib/python3.12/site-packages (from gitdb<5,>=4.0.1->gitpython<4,>=3.1.9->mlflow-skinny==3.2.0->mlflow>=3.1.0->mlflow[databricks]>=3.1.0->-r requirements.txt (line 1)) (5.0.2)\n",
      "Requirement already satisfied: pyasn1-modules>=0.2.1 in /Users/stuart.lynn/Projects/u2m-experiment/agent/.venv/lib/python3.12/site-packages (from google-auth~=2.0->databricks-sdk>=0.63.0->-r requirements.txt (line 4)) (0.4.2)\n",
      "Requirement already satisfied: rsa<5,>=3.1.4 in /Users/stuart.lynn/Projects/u2m-experiment/agent/.venv/lib/python3.12/site-packages (from google-auth~=2.0->databricks-sdk>=0.63.0->-r requirements.txt (line 4)) (4.9.1)\n",
      "Requirement already satisfied: graphql-core<3.3,>=3.1 in /Users/stuart.lynn/Projects/u2m-experiment/agent/.venv/lib/python3.12/site-packages (from graphene<4->mlflow>=3.1.0->mlflow[databricks]>=3.1.0->-r requirements.txt (line 1)) (3.2.6)\n",
      "Requirement already satisfied: graphql-relay<3.3,>=3.1 in /Users/stuart.lynn/Projects/u2m-experiment/agent/.venv/lib/python3.12/site-packages (from graphene<4->mlflow>=3.1.0->mlflow[databricks]>=3.1.0->-r requirements.txt (line 1)) (3.2.0)\n",
      "Requirement already satisfied: python-dateutil<3,>=2.7.0 in /Users/stuart.lynn/Projects/u2m-experiment/agent/.venv/lib/python3.12/site-packages (from graphene<4->mlflow>=3.1.0->mlflow[databricks]>=3.1.0->-r requirements.txt (line 1)) (2.9.0.post0)\n",
      "Requirement already satisfied: zipp>=3.20 in /Users/stuart.lynn/Projects/u2m-experiment/agent/.venv/lib/python3.12/site-packages (from importlib_metadata!=4.7.0,<9,>=3.7.0->mlflow-skinny==3.2.0->mlflow>=3.1.0->mlflow[databricks]>=3.1.0->-r requirements.txt (line 1)) (3.23.0)\n",
      "Requirement already satisfied: contourpy>=1.0.1 in /Users/stuart.lynn/Projects/u2m-experiment/agent/.venv/lib/python3.12/site-packages (from matplotlib<4->mlflow>=3.1.0->mlflow[databricks]>=3.1.0->-r requirements.txt (line 1)) (1.3.3)\n",
      "Requirement already satisfied: cycler>=0.10 in /Users/stuart.lynn/Projects/u2m-experiment/agent/.venv/lib/python3.12/site-packages (from matplotlib<4->mlflow>=3.1.0->mlflow[databricks]>=3.1.0->-r requirements.txt (line 1)) (0.12.1)\n",
      "Requirement already satisfied: fonttools>=4.22.0 in /Users/stuart.lynn/Projects/u2m-experiment/agent/.venv/lib/python3.12/site-packages (from matplotlib<4->mlflow>=3.1.0->mlflow[databricks]>=3.1.0->-r requirements.txt (line 1)) (4.59.1)\n",
      "Requirement already satisfied: kiwisolver>=1.3.1 in /Users/stuart.lynn/Projects/u2m-experiment/agent/.venv/lib/python3.12/site-packages (from matplotlib<4->mlflow>=3.1.0->mlflow[databricks]>=3.1.0->-r requirements.txt (line 1)) (1.4.9)\n",
      "Requirement already satisfied: pillow>=8 in /Users/stuart.lynn/Projects/u2m-experiment/agent/.venv/lib/python3.12/site-packages (from matplotlib<4->mlflow>=3.1.0->mlflow[databricks]>=3.1.0->-r requirements.txt (line 1)) (11.3.0)\n",
      "Requirement already satisfied: pyparsing>=2.3.1 in /Users/stuart.lynn/Projects/u2m-experiment/agent/.venv/lib/python3.12/site-packages (from matplotlib<4->mlflow>=3.1.0->mlflow[databricks]>=3.1.0->-r requirements.txt (line 1)) (3.2.3)\n",
      "Requirement already satisfied: opentelemetry-semantic-conventions==0.57b0 in /Users/stuart.lynn/Projects/u2m-experiment/agent/.venv/lib/python3.12/site-packages (from opentelemetry-sdk<3,>=1.9.0->mlflow-skinny==3.2.0->mlflow>=3.1.0->mlflow[databricks]>=3.1.0->-r requirements.txt (line 1)) (0.57b0)\n",
      "Requirement already satisfied: pytz>=2020.1 in /Users/stuart.lynn/Projects/u2m-experiment/agent/.venv/lib/python3.12/site-packages (from pandas<3->mlflow>=3.1.0->mlflow[databricks]>=3.1.0->-r requirements.txt (line 1)) (2025.2)\n",
      "Requirement already satisfied: tzdata>=2022.7 in /Users/stuart.lynn/Projects/u2m-experiment/agent/.venv/lib/python3.12/site-packages (from pandas<3->mlflow>=3.1.0->mlflow[databricks]>=3.1.0->-r requirements.txt (line 1)) (2025.2)\n",
      "Requirement already satisfied: annotated-types>=0.6.0 in /Users/stuart.lynn/Projects/u2m-experiment/agent/.venv/lib/python3.12/site-packages (from pydantic<3,>=1.10.8->mlflow-skinny==3.2.0->mlflow>=3.1.0->mlflow[databricks]>=3.1.0->-r requirements.txt (line 1)) (0.7.0)\n",
      "Requirement already satisfied: pydantic-core==2.33.2 in /Users/stuart.lynn/Projects/u2m-experiment/agent/.venv/lib/python3.12/site-packages (from pydantic<3,>=1.10.8->mlflow-skinny==3.2.0->mlflow>=3.1.0->mlflow[databricks]>=3.1.0->-r requirements.txt (line 1)) (2.33.2)\n",
      "Requirement already satisfied: typing-inspection>=0.4.0 in /Users/stuart.lynn/Projects/u2m-experiment/agent/.venv/lib/python3.12/site-packages (from pydantic<3,>=1.10.8->mlflow-skinny==3.2.0->mlflow>=3.1.0->mlflow[databricks]>=3.1.0->-r requirements.txt (line 1)) (0.4.1)\n",
      "Requirement already satisfied: six>=1.5 in /Users/stuart.lynn/Projects/u2m-experiment/agent/.venv/lib/python3.12/site-packages (from python-dateutil<3,>=2.7.0->graphene<4->mlflow>=3.1.0->mlflow[databricks]>=3.1.0->-r requirements.txt (line 1)) (1.17.0)\n",
      "Requirement already satisfied: charset_normalizer<4,>=2 in /Users/stuart.lynn/Projects/u2m-experiment/agent/.venv/lib/python3.12/site-packages (from requests<3,>=2.17.3->mlflow-skinny==3.2.0->mlflow>=3.1.0->mlflow[databricks]>=3.1.0->-r requirements.txt (line 1)) (3.4.3)\n",
      "Requirement already satisfied: idna<4,>=2.5 in /Users/stuart.lynn/Projects/u2m-experiment/agent/.venv/lib/python3.12/site-packages (from requests<3,>=2.17.3->mlflow-skinny==3.2.0->mlflow>=3.1.0->mlflow[databricks]>=3.1.0->-r requirements.txt (line 1)) (3.10)\n",
      "Requirement already satisfied: certifi>=2017.4.17 in /Users/stuart.lynn/Projects/u2m-experiment/agent/.venv/lib/python3.12/site-packages (from requests<3,>=2.17.3->mlflow-skinny==3.2.0->mlflow>=3.1.0->mlflow[databricks]>=3.1.0->-r requirements.txt (line 1)) (2025.8.3)\n",
      "Requirement already satisfied: pyasn1>=0.1.3 in /Users/stuart.lynn/Projects/u2m-experiment/agent/.venv/lib/python3.12/site-packages (from rsa<5,>=3.1.4->google-auth~=2.0->databricks-sdk>=0.63.0->-r requirements.txt (line 4)) (0.6.1)\n",
      "Requirement already satisfied: joblib>=1.2.0 in /Users/stuart.lynn/Projects/u2m-experiment/agent/.venv/lib/python3.12/site-packages (from scikit-learn<2->mlflow>=3.1.0->mlflow[databricks]>=3.1.0->-r requirements.txt (line 1)) (1.5.1)\n",
      "Requirement already satisfied: threadpoolctl>=3.1.0 in /Users/stuart.lynn/Projects/u2m-experiment/agent/.venv/lib/python3.12/site-packages (from scikit-learn<2->mlflow>=3.1.0->mlflow[databricks]>=3.1.0->-r requirements.txt (line 1)) (3.6.0)\n",
      "Requirement already satisfied: anyio<5,>=3.6.2 in /Users/stuart.lynn/Projects/u2m-experiment/agent/.venv/lib/python3.12/site-packages (from starlette<0.48.0,>=0.40.0->fastapi<1->mlflow-skinny==3.2.0->mlflow>=3.1.0->mlflow[databricks]>=3.1.0->-r requirements.txt (line 1)) (4.10.0)\n",
      "Requirement already satisfied: sniffio>=1.1 in /Users/stuart.lynn/Projects/u2m-experiment/agent/.venv/lib/python3.12/site-packages (from anyio<5,>=3.6.2->starlette<0.48.0,>=0.40.0->fastapi<1->mlflow-skinny==3.2.0->mlflow>=3.1.0->mlflow[databricks]>=3.1.0->-r requirements.txt (line 1)) (1.3.1)\n",
      "Requirement already satisfied: h11>=0.8 in /Users/stuart.lynn/Projects/u2m-experiment/agent/.venv/lib/python3.12/site-packages (from uvicorn<1->mlflow-skinny==3.2.0->mlflow>=3.1.0->mlflow[databricks]>=3.1.0->-r requirements.txt (line 1)) (0.16.0)\n",
      "Requirement already satisfied: databricks-ai-bridge>=0.7.0 in /Users/stuart.lynn/Projects/u2m-experiment/agent/.venv/lib/python3.12/site-packages (from databricks-langchain>=0.6.0->-r requirements.txt (line 2)) (0.7.0)\n",
      "Requirement already satisfied: databricks-connect<16.4,>=16.1.1 in /Users/stuart.lynn/Projects/u2m-experiment/agent/.venv/lib/python3.12/site-packages (from databricks-langchain>=0.6.0->-r requirements.txt (line 2)) (16.3.5)\n",
      "Requirement already satisfied: databricks-vectorsearch>=0.50 in /Users/stuart.lynn/Projects/u2m-experiment/agent/.venv/lib/python3.12/site-packages (from databricks-langchain>=0.6.0->-r requirements.txt (line 2)) (0.57)\n",
      "Requirement already satisfied: langchain>=0.3.0 in /Users/stuart.lynn/Projects/u2m-experiment/agent/.venv/lib/python3.12/site-packages (from databricks-langchain>=0.6.0->-r requirements.txt (line 2)) (0.3.27)\n",
      "Requirement already satisfied: openai>=1.99.9 in /Users/stuart.lynn/Projects/u2m-experiment/agent/.venv/lib/python3.12/site-packages (from databricks-langchain>=0.6.0->-r requirements.txt (line 2)) (1.100.1)\n",
      "Requirement already satisfied: unitycatalog-langchain>=0.2.0 in /Users/stuart.lynn/Projects/u2m-experiment/agent/.venv/lib/python3.12/site-packages (from unitycatalog-langchain[databricks]>=0.2.0->databricks-langchain>=0.6.0->-r requirements.txt (line 2)) (0.2.0)\n",
      "Requirement already satisfied: googleapis-common-protos>=1.56.4 in /Users/stuart.lynn/Projects/u2m-experiment/agent/.venv/lib/python3.12/site-packages (from databricks-connect<16.4,>=16.1.1->databricks-langchain>=0.6.0->-r requirements.txt (line 2)) (1.70.0)\n",
      "Requirement already satisfied: grpcio-status>=1.59.3 in /Users/stuart.lynn/Projects/u2m-experiment/agent/.venv/lib/python3.12/site-packages (from databricks-connect<16.4,>=16.1.1->databricks-langchain>=0.6.0->-r requirements.txt (line 2)) (1.71.2)\n",
      "Requirement already satisfied: grpcio>=1.59.3 in /Users/stuart.lynn/Projects/u2m-experiment/agent/.venv/lib/python3.12/site-packages (from databricks-connect<16.4,>=16.1.1->databricks-langchain>=0.6.0->-r requirements.txt (line 2)) (1.74.0)\n",
      "Requirement already satisfied: py4j==0.10.9.7 in /Users/stuart.lynn/Projects/u2m-experiment/agent/.venv/lib/python3.12/site-packages (from databricks-connect<16.4,>=16.1.1->databricks-langchain>=0.6.0->-r requirements.txt (line 2)) (0.10.9.7)\n",
      "Requirement already satisfied: setuptools>=68.0.0 in /Users/stuart.lynn/Projects/u2m-experiment/agent/.venv/lib/python3.12/site-packages (from databricks-connect<16.4,>=16.1.1->databricks-langchain>=0.6.0->-r requirements.txt (line 2)) (80.9.0)\n",
      "Requirement already satisfied: langsmith>=0.3.45 in /Users/stuart.lynn/Projects/u2m-experiment/agent/.venv/lib/python3.12/site-packages (from langchain-core>=0.3.74->-r requirements.txt (line 3)) (0.4.14)\n",
      "Requirement already satisfied: tenacity!=8.4.0,<10.0.0,>=8.1.0 in /Users/stuart.lynn/Projects/u2m-experiment/agent/.venv/lib/python3.12/site-packages (from langchain-core>=0.3.74->-r requirements.txt (line 3)) (9.1.2)\n",
      "Requirement already satisfied: jsonpatch<2.0,>=1.33 in /Users/stuart.lynn/Projects/u2m-experiment/agent/.venv/lib/python3.12/site-packages (from langchain-core>=0.3.74->-r requirements.txt (line 3)) (1.33)\n",
      "Requirement already satisfied: jsonpointer>=1.9 in /Users/stuart.lynn/Projects/u2m-experiment/agent/.venv/lib/python3.12/site-packages (from jsonpatch<2.0,>=1.33->langchain-core>=0.3.74->-r requirements.txt (line 3)) (3.0.0)\n",
      "Requirement already satisfied: tabulate>=0.9.0 in /Users/stuart.lynn/Projects/u2m-experiment/agent/.venv/lib/python3.12/site-packages (from databricks-ai-bridge>=0.7.0->databricks-langchain>=0.6.0->-r requirements.txt (line 2)) (0.9.0)\n",
      "Requirement already satisfied: tiktoken>=0.8.0 in /Users/stuart.lynn/Projects/u2m-experiment/agent/.venv/lib/python3.12/site-packages (from databricks-ai-bridge>=0.7.0->databricks-langchain>=0.6.0->-r requirements.txt (line 2)) (0.11.0)\n",
      "Requirement already satisfied: deprecation>=2 in /Users/stuart.lynn/Projects/u2m-experiment/agent/.venv/lib/python3.12/site-packages (from databricks-vectorsearch>=0.50->databricks-langchain>=0.6.0->-r requirements.txt (line 2)) (2.1.0)\n",
      "Requirement already satisfied: langchain-text-splitters<1.0.0,>=0.3.9 in /Users/stuart.lynn/Projects/u2m-experiment/agent/.venv/lib/python3.12/site-packages (from langchain>=0.3.0->databricks-langchain>=0.6.0->-r requirements.txt (line 2)) (0.3.9)\n",
      "Requirement already satisfied: httpx<1,>=0.23.0 in /Users/stuart.lynn/Projects/u2m-experiment/agent/.venv/lib/python3.12/site-packages (from langsmith>=0.3.45->langchain-core>=0.3.74->-r requirements.txt (line 3)) (0.28.1)\n",
      "Requirement already satisfied: orjson>=3.9.14 in /Users/stuart.lynn/Projects/u2m-experiment/agent/.venv/lib/python3.12/site-packages (from langsmith>=0.3.45->langchain-core>=0.3.74->-r requirements.txt (line 3)) (3.11.2)\n",
      "Requirement already satisfied: requests-toolbelt>=1.0.0 in /Users/stuart.lynn/Projects/u2m-experiment/agent/.venv/lib/python3.12/site-packages (from langsmith>=0.3.45->langchain-core>=0.3.74->-r requirements.txt (line 3)) (1.0.0)\n",
      "Requirement already satisfied: zstandard>=0.23.0 in /Users/stuart.lynn/Projects/u2m-experiment/agent/.venv/lib/python3.12/site-packages (from langsmith>=0.3.45->langchain-core>=0.3.74->-r requirements.txt (line 3)) (0.24.0)\n",
      "Requirement already satisfied: httpcore==1.* in /Users/stuart.lynn/Projects/u2m-experiment/agent/.venv/lib/python3.12/site-packages (from httpx<1,>=0.23.0->langsmith>=0.3.45->langchain-core>=0.3.74->-r requirements.txt (line 3)) (1.0.9)\n",
      "Requirement already satisfied: azure-storage-file-datalake>12 in /Users/stuart.lynn/Projects/u2m-experiment/agent/.venv/lib/python3.12/site-packages (from mlflow[databricks]>=3.1.0->-r requirements.txt (line 1)) (12.21.0)\n",
      "Requirement already satisfied: google-cloud-storage>=1.30.0 in /Users/stuart.lynn/Projects/u2m-experiment/agent/.venv/lib/python3.12/site-packages (from mlflow[databricks]>=3.1.0->-r requirements.txt (line 1)) (3.3.0)\n",
      "Requirement already satisfied: boto3>1 in /Users/stuart.lynn/Projects/u2m-experiment/agent/.venv/lib/python3.12/site-packages (from mlflow[databricks]>=3.1.0->-r requirements.txt (line 1)) (1.40.12)\n",
      "Requirement already satisfied: botocore in /Users/stuart.lynn/Projects/u2m-experiment/agent/.venv/lib/python3.12/site-packages (from mlflow[databricks]>=3.1.0->-r requirements.txt (line 1)) (1.40.12)\n",
      "Requirement already satisfied: databricks-agents<2.0,>=1.2.0 in /Users/stuart.lynn/Projects/u2m-experiment/agent/.venv/lib/python3.12/site-packages (from mlflow[databricks]>=3.1.0->-r requirements.txt (line 1)) (1.3.0)\n",
      "Requirement already satisfied: dataclasses-json in /Users/stuart.lynn/Projects/u2m-experiment/agent/.venv/lib/python3.12/site-packages (from databricks-agents<2.0,>=1.2.0->mlflow[databricks]>=3.1.0->-r requirements.txt (line 1)) (0.6.7)\n",
      "Requirement already satisfied: tqdm in /Users/stuart.lynn/Projects/u2m-experiment/agent/.venv/lib/python3.12/site-packages (from databricks-agents<2.0,>=1.2.0->mlflow[databricks]>=3.1.0->-r requirements.txt (line 1)) (4.67.1)\n",
      "Requirement already satisfied: whenever==0.7.3 in /Users/stuart.lynn/Projects/u2m-experiment/agent/.venv/lib/python3.12/site-packages (from databricks-agents<2.0,>=1.2.0->mlflow[databricks]>=3.1.0->-r requirements.txt (line 1)) (0.7.3)\n",
      "Requirement already satisfied: azure-core>=1.30.0 in /Users/stuart.lynn/Projects/u2m-experiment/agent/.venv/lib/python3.12/site-packages (from azure-storage-file-datalake>12->mlflow[databricks]>=3.1.0->-r requirements.txt (line 1)) (1.35.0)\n",
      "Requirement already satisfied: azure-storage-blob>=12.26.0 in /Users/stuart.lynn/Projects/u2m-experiment/agent/.venv/lib/python3.12/site-packages (from azure-storage-file-datalake>12->mlflow[databricks]>=3.1.0->-r requirements.txt (line 1)) (12.26.0)\n",
      "Requirement already satisfied: isodate>=0.6.1 in /Users/stuart.lynn/Projects/u2m-experiment/agent/.venv/lib/python3.12/site-packages (from azure-storage-file-datalake>12->mlflow[databricks]>=3.1.0->-r requirements.txt (line 1)) (0.7.2)\n",
      "Requirement already satisfied: cryptography>=2.1.4 in /Users/stuart.lynn/Projects/u2m-experiment/agent/.venv/lib/python3.12/site-packages (from azure-storage-blob>=12.26.0->azure-storage-file-datalake>12->mlflow[databricks]>=3.1.0->-r requirements.txt (line 1)) (45.0.6)\n",
      "Requirement already satisfied: jmespath<2.0.0,>=0.7.1 in /Users/stuart.lynn/Projects/u2m-experiment/agent/.venv/lib/python3.12/site-packages (from boto3>1->mlflow[databricks]>=3.1.0->-r requirements.txt (line 1)) (1.0.1)\n",
      "Requirement already satisfied: s3transfer<0.14.0,>=0.13.0 in /Users/stuart.lynn/Projects/u2m-experiment/agent/.venv/lib/python3.12/site-packages (from boto3>1->mlflow[databricks]>=3.1.0->-r requirements.txt (line 1)) (0.13.1)\n",
      "Requirement already satisfied: cffi>=1.14 in /Users/stuart.lynn/Projects/u2m-experiment/agent/.venv/lib/python3.12/site-packages (from cryptography>=2.1.4->azure-storage-blob>=12.26.0->azure-storage-file-datalake>12->mlflow[databricks]>=3.1.0->-r requirements.txt (line 1)) (1.17.1)\n",
      "Requirement already satisfied: pycparser in /Users/stuart.lynn/Projects/u2m-experiment/agent/.venv/lib/python3.12/site-packages (from cffi>=1.14->cryptography>=2.1.4->azure-storage-blob>=12.26.0->azure-storage-file-datalake>12->mlflow[databricks]>=3.1.0->-r requirements.txt (line 1)) (2.22)\n",
      "Requirement already satisfied: langchain-openai in /Users/stuart.lynn/Projects/u2m-experiment/agent/.venv/lib/python3.12/site-packages (from databricks-sdk[openai]>=0.58.0->databricks-agents<2.0,>=1.2.0->mlflow[databricks]>=3.1.0->-r requirements.txt (line 1)) (0.3.30)\n",
      "Requirement already satisfied: google-api-core<3.0.0,>=2.15.0 in /Users/stuart.lynn/Projects/u2m-experiment/agent/.venv/lib/python3.12/site-packages (from google-cloud-storage>=1.30.0->mlflow[databricks]>=3.1.0->-r requirements.txt (line 1)) (2.25.1)\n",
      "Requirement already satisfied: google-cloud-core<3.0.0,>=2.4.2 in /Users/stuart.lynn/Projects/u2m-experiment/agent/.venv/lib/python3.12/site-packages (from google-cloud-storage>=1.30.0->mlflow[databricks]>=3.1.0->-r requirements.txt (line 1)) (2.4.3)\n",
      "Requirement already satisfied: google-resumable-media<3.0.0,>=2.7.2 in /Users/stuart.lynn/Projects/u2m-experiment/agent/.venv/lib/python3.12/site-packages (from google-cloud-storage>=1.30.0->mlflow[databricks]>=3.1.0->-r requirements.txt (line 1)) (2.7.2)\n",
      "Requirement already satisfied: google-crc32c<2.0.0,>=1.1.3 in /Users/stuart.lynn/Projects/u2m-experiment/agent/.venv/lib/python3.12/site-packages (from google-cloud-storage>=1.30.0->mlflow[databricks]>=3.1.0->-r requirements.txt (line 1)) (1.7.1)\n",
      "Requirement already satisfied: proto-plus<2.0.0,>=1.22.3 in /Users/stuart.lynn/Projects/u2m-experiment/agent/.venv/lib/python3.12/site-packages (from google-api-core<3.0.0,>=2.15.0->google-cloud-storage>=1.30.0->mlflow[databricks]>=3.1.0->-r requirements.txt (line 1)) (1.26.1)\n",
      "Requirement already satisfied: distro<2,>=1.7.0 in /Users/stuart.lynn/Projects/u2m-experiment/agent/.venv/lib/python3.12/site-packages (from openai>=1.99.9->databricks-langchain>=0.6.0->-r requirements.txt (line 2)) (1.9.0)\n",
      "Requirement already satisfied: jiter<1,>=0.4.0 in /Users/stuart.lynn/Projects/u2m-experiment/agent/.venv/lib/python3.12/site-packages (from openai>=1.99.9->databricks-langchain>=0.6.0->-r requirements.txt (line 2)) (0.10.0)\n",
      "Requirement already satisfied: regex>=2022.1.18 in /Users/stuart.lynn/Projects/u2m-experiment/agent/.venv/lib/python3.12/site-packages (from tiktoken>=0.8.0->databricks-ai-bridge>=0.7.0->databricks-langchain>=0.6.0->-r requirements.txt (line 2)) (2025.7.34)\n",
      "Requirement already satisfied: langchain-community>=0.2.0 in /Users/stuart.lynn/Projects/u2m-experiment/agent/.venv/lib/python3.12/site-packages (from unitycatalog-langchain>=0.2.0->unitycatalog-langchain[databricks]>=0.2.0->databricks-langchain>=0.6.0->-r requirements.txt (line 2)) (0.3.27)\n",
      "Requirement already satisfied: unitycatalog-ai in /Users/stuart.lynn/Projects/u2m-experiment/agent/.venv/lib/python3.12/site-packages (from unitycatalog-langchain>=0.2.0->unitycatalog-langchain[databricks]>=0.2.0->databricks-langchain>=0.6.0->-r requirements.txt (line 2)) (0.3.1)\n",
      "Requirement already satisfied: aiohttp<4.0.0,>=3.8.3 in /Users/stuart.lynn/Projects/u2m-experiment/agent/.venv/lib/python3.12/site-packages (from langchain-community>=0.2.0->unitycatalog-langchain>=0.2.0->unitycatalog-langchain[databricks]>=0.2.0->databricks-langchain>=0.6.0->-r requirements.txt (line 2)) (3.12.15)\n",
      "Requirement already satisfied: pydantic-settings<3.0.0,>=2.4.0 in /Users/stuart.lynn/Projects/u2m-experiment/agent/.venv/lib/python3.12/site-packages (from langchain-community>=0.2.0->unitycatalog-langchain>=0.2.0->unitycatalog-langchain[databricks]>=0.2.0->databricks-langchain>=0.6.0->-r requirements.txt (line 2)) (2.10.1)\n",
      "Requirement already satisfied: httpx-sse<1.0.0,>=0.4.0 in /Users/stuart.lynn/Projects/u2m-experiment/agent/.venv/lib/python3.12/site-packages (from langchain-community>=0.2.0->unitycatalog-langchain>=0.2.0->unitycatalog-langchain[databricks]>=0.2.0->databricks-langchain>=0.6.0->-r requirements.txt (line 2)) (0.4.1)\n",
      "Requirement already satisfied: aiohappyeyeballs>=2.5.0 in /Users/stuart.lynn/Projects/u2m-experiment/agent/.venv/lib/python3.12/site-packages (from aiohttp<4.0.0,>=3.8.3->langchain-community>=0.2.0->unitycatalog-langchain>=0.2.0->unitycatalog-langchain[databricks]>=0.2.0->databricks-langchain>=0.6.0->-r requirements.txt (line 2)) (2.6.1)\n",
      "Requirement already satisfied: aiosignal>=1.4.0 in /Users/stuart.lynn/Projects/u2m-experiment/agent/.venv/lib/python3.12/site-packages (from aiohttp<4.0.0,>=3.8.3->langchain-community>=0.2.0->unitycatalog-langchain>=0.2.0->unitycatalog-langchain[databricks]>=0.2.0->databricks-langchain>=0.6.0->-r requirements.txt (line 2)) (1.4.0)\n",
      "Requirement already satisfied: attrs>=17.3.0 in /Users/stuart.lynn/Projects/u2m-experiment/agent/.venv/lib/python3.12/site-packages (from aiohttp<4.0.0,>=3.8.3->langchain-community>=0.2.0->unitycatalog-langchain>=0.2.0->unitycatalog-langchain[databricks]>=0.2.0->databricks-langchain>=0.6.0->-r requirements.txt (line 2)) (25.3.0)\n",
      "Requirement already satisfied: frozenlist>=1.1.1 in /Users/stuart.lynn/Projects/u2m-experiment/agent/.venv/lib/python3.12/site-packages (from aiohttp<4.0.0,>=3.8.3->langchain-community>=0.2.0->unitycatalog-langchain>=0.2.0->unitycatalog-langchain[databricks]>=0.2.0->databricks-langchain>=0.6.0->-r requirements.txt (line 2)) (1.7.0)\n",
      "Requirement already satisfied: multidict<7.0,>=4.5 in /Users/stuart.lynn/Projects/u2m-experiment/agent/.venv/lib/python3.12/site-packages (from aiohttp<4.0.0,>=3.8.3->langchain-community>=0.2.0->unitycatalog-langchain>=0.2.0->unitycatalog-langchain[databricks]>=0.2.0->databricks-langchain>=0.6.0->-r requirements.txt (line 2)) (6.6.4)\n",
      "Requirement already satisfied: propcache>=0.2.0 in /Users/stuart.lynn/Projects/u2m-experiment/agent/.venv/lib/python3.12/site-packages (from aiohttp<4.0.0,>=3.8.3->langchain-community>=0.2.0->unitycatalog-langchain>=0.2.0->unitycatalog-langchain[databricks]>=0.2.0->databricks-langchain>=0.6.0->-r requirements.txt (line 2)) (0.3.2)\n",
      "Requirement already satisfied: yarl<2.0,>=1.17.0 in /Users/stuart.lynn/Projects/u2m-experiment/agent/.venv/lib/python3.12/site-packages (from aiohttp<4.0.0,>=3.8.3->langchain-community>=0.2.0->unitycatalog-langchain>=0.2.0->unitycatalog-langchain[databricks]>=0.2.0->databricks-langchain>=0.6.0->-r requirements.txt (line 2)) (1.20.1)\n",
      "Requirement already satisfied: marshmallow<4.0.0,>=3.18.0 in /Users/stuart.lynn/Projects/u2m-experiment/agent/.venv/lib/python3.12/site-packages (from dataclasses-json->databricks-agents<2.0,>=1.2.0->mlflow[databricks]>=3.1.0->-r requirements.txt (line 1)) (3.26.1)\n",
      "Requirement already satisfied: typing-inspect<1,>=0.4.0 in /Users/stuart.lynn/Projects/u2m-experiment/agent/.venv/lib/python3.12/site-packages (from dataclasses-json->databricks-agents<2.0,>=1.2.0->mlflow[databricks]>=3.1.0->-r requirements.txt (line 1)) (0.9.0)\n",
      "Requirement already satisfied: python-dotenv>=0.21.0 in /Users/stuart.lynn/Projects/u2m-experiment/agent/.venv/lib/python3.12/site-packages (from pydantic-settings<3.0.0,>=2.4.0->langchain-community>=0.2.0->unitycatalog-langchain>=0.2.0->unitycatalog-langchain[databricks]>=0.2.0->databricks-langchain>=0.6.0->-r requirements.txt (line 2)) (1.1.1)\n",
      "Requirement already satisfied: mypy-extensions>=0.3.0 in /Users/stuart.lynn/Projects/u2m-experiment/agent/.venv/lib/python3.12/site-packages (from typing-inspect<1,>=0.4.0->dataclasses-json->databricks-agents<2.0,>=1.2.0->mlflow[databricks]>=3.1.0->-r requirements.txt (line 1)) (1.1.0)\n",
      "Requirement already satisfied: nest-asyncio in /Users/stuart.lynn/Projects/u2m-experiment/agent/.venv/lib/python3.12/site-packages (from unitycatalog-ai->unitycatalog-langchain>=0.2.0->unitycatalog-langchain[databricks]>=0.2.0->databricks-langchain>=0.6.0->-r requirements.txt (line 2)) (1.6.0)\n",
      "Requirement already satisfied: unitycatalog-client in /Users/stuart.lynn/Projects/u2m-experiment/agent/.venv/lib/python3.12/site-packages (from unitycatalog-ai->unitycatalog-langchain>=0.2.0->unitycatalog-langchain[databricks]>=0.2.0->databricks-langchain>=0.6.0->-r requirements.txt (line 2)) (0.3.0)\n",
      "Requirement already satisfied: aiohttp-retry>=2.8.3 in /Users/stuart.lynn/Projects/u2m-experiment/agent/.venv/lib/python3.12/site-packages (from unitycatalog-client->unitycatalog-ai->unitycatalog-langchain>=0.2.0->unitycatalog-langchain[databricks]>=0.2.0->databricks-langchain>=0.6.0->-r requirements.txt (line 2)) (2.9.1)\n",
      "\n",
      "\u001b[1m[\u001b[0m\u001b[34;49mnotice\u001b[0m\u001b[1;39;49m]\u001b[0m\u001b[39;49m A new release of pip is available: \u001b[0m\u001b[31;49m25.1.1\u001b[0m\u001b[39;49m -> \u001b[0m\u001b[32;49m25.2\u001b[0m\n",
      "\u001b[1m[\u001b[0m\u001b[34;49mnotice\u001b[0m\u001b[1;39;49m]\u001b[0m\u001b[39;49m To update, run: \u001b[0m\u001b[32;49mpip install --upgrade pip\u001b[0m\n",
      "Note: you may need to restart the kernel to use updated packages.\n"
     ]
    }
   ],
   "source": [
    "%pip install -r requirements.txt\n",
    "# %restart_python"
   ]
  },
  {
   "cell_type": "code",
   "execution_count": 2,
   "metadata": {
    "application/vnd.databricks.v1+cell": {
     "cellMetadata": {
      "byteLimit": 2048000,
      "rowLimit": 10000
     },
     "inputWidgets": {},
     "nuid": "c36d638d-9ab6-4f4a-90e3-d9be3cb356e3",
     "showTitle": false,
     "tableResultSettingsMap": {},
     "title": ""
    }
   },
   "outputs": [],
   "source": [
    "%load_ext autoreload\n",
    "%autoreload 2"
   ]
  },
  {
   "cell_type": "code",
   "execution_count": null,
   "metadata": {
    "application/vnd.databricks.v1+cell": {
     "cellMetadata": {
      "byteLimit": 2048000,
      "rowLimit": 10000
     },
     "inputWidgets": {},
     "nuid": "5a2f1fce-3265-4993-bff9-09bc67a1ec40",
     "showTitle": false,
     "tableResultSettingsMap": {},
     "title": ""
    }
   },
   "outputs": [],
   "source": [
    "import mlflow\n",
    "import pkg_resources\n",
    "\n",
    "from mlflow.types.responses import ResponsesAgentRequest\n",
    "\n",
    "from agent import LLM_ENDPOINT_NAME, AGENT"
   ]
  },
  {
   "cell_type": "code",
   "execution_count": 7,
   "metadata": {
    "application/vnd.databricks.v1+cell": {
     "cellMetadata": {
      "byteLimit": 2048000,
      "rowLimit": 10000
     },
     "inputWidgets": {},
     "nuid": "a1ec09d0-b4cf-4e56-8ea1-1446422e2140",
     "showTitle": false,
     "tableResultSettingsMap": {},
     "title": ""
    }
   },
   "outputs": [],
   "source": [
    "# input_example = {\"input\": [{\"role\": \"user\", \"content\": \"How many Rs in strawberry?\"}]}\n",
    "input_example = ResponsesAgentRequest(input=[{\"role\": \"user\", \"content\": \"How many Rs in strawberry?\"}])"
   ]
  },
  {
   "cell_type": "code",
   "execution_count": null,
   "metadata": {
    "application/vnd.databricks.v1+cell": {
     "cellMetadata": {
      "byteLimit": 2048000,
      "rowLimit": 10000
     },
     "inputWidgets": {},
     "nuid": "30332bc7-8370-419d-a2f1-cd17abb58f2d",
     "showTitle": false,
     "tableResultSettingsMap": {},
     "title": ""
    }
   },
   "outputs": [
    {
     "name": "stderr",
     "output_type": "stream",
     "text": [
      "{\"ts\": \"2025-08-19 13:22:20.165\", \"level\": \"ERROR\", \"logger\": \"pyspark.sql.connect.client.logging\", \"msg\": \"GRPC Error received\", \"context\": {}, \"exception\": {\"class\": \"_InactiveRpcError\", \"msg\": \"<_InactiveRpcError of RPC that terminated with:\\n\\tstatus = StatusCode.INTERNAL\\n\\tdetails = \\\"[CONFIG_NOT_AVAILABLE] Configuration spark.mlflow.modelRegistryUri is not available. SQLSTATE: 42K0I\\\"\\n\\tdebug_error_string = \\\"UNKNOWN:Error received from peer  {grpc_status:13, grpc_message:\\\"[CONFIG_NOT_AVAILABLE] Configuration spark.mlflow.modelRegistryUri is not available. SQLSTATE: 42K0I\\\"}\\\"\\n>\", \"stacktrace\": [{\"class\": null, \"method\": \"config\", \"file\": \"/Users/stuart.lynn/Projects/u2m-experiment/agent/.venv/lib/python3.12/site-packages/pyspark/sql/connect/client/core.py\", \"line\": \"2055\"}, {\"class\": null, \"method\": \"__call__\", \"file\": \"/Users/stuart.lynn/Projects/u2m-experiment/agent/.venv/lib/python3.12/site-packages/grpc/_interceptor.py\", \"line\": \"277\"}, {\"class\": null, \"method\": \"_with_call\", \"file\": \"/Users/stuart.lynn/Projects/u2m-experiment/agent/.venv/lib/python3.12/site-packages/grpc/_interceptor.py\", \"line\": \"332\"}, {\"class\": null, \"method\": \"result\", \"file\": \"/Users/stuart.lynn/Projects/u2m-experiment/agent/.venv/lib/python3.12/site-packages/grpc/_channel.py\", \"line\": \"440\"}, {\"class\": null, \"method\": \"continuation\", \"file\": \"/Users/stuart.lynn/Projects/u2m-experiment/agent/.venv/lib/python3.12/site-packages/grpc/_interceptor.py\", \"line\": \"315\"}, {\"class\": null, \"method\": \"with_call\", \"file\": \"/Users/stuart.lynn/Projects/u2m-experiment/agent/.venv/lib/python3.12/site-packages/grpc/_channel.py\", \"line\": \"1192\"}, {\"class\": null, \"method\": \"_end_unary_response_blocking\", \"file\": \"/Users/stuart.lynn/Projects/u2m-experiment/agent/.venv/lib/python3.12/site-packages/grpc/_channel.py\", \"line\": \"1006\"}]}}\n",
      "{\"ts\": \"2025-08-19 13:22:20.165\", \"level\": \"ERROR\", \"logger\": \"pyspark.sql.connect.client.logging\", \"msg\": \"GRPC Error received\", \"context\": {}, \"exception\": {\"class\": \"_InactiveRpcError\", \"msg\": \"<_InactiveRpcError of RPC that terminated with:\\n\\tstatus = StatusCode.INTERNAL\\n\\tdetails = \\\"[CONFIG_NOT_AVAILABLE] Configuration spark.mlflow.modelRegistryUri is not available. SQLSTATE: 42K0I\\\"\\n\\tdebug_error_string = \\\"UNKNOWN:Error received from peer  {grpc_status:13, grpc_message:\\\"[CONFIG_NOT_AVAILABLE] Configuration spark.mlflow.modelRegistryUri is not available. SQLSTATE: 42K0I\\\"}\\\"\\n>\", \"stacktrace\": [{\"class\": null, \"method\": \"config\", \"file\": \"/Users/stuart.lynn/Projects/u2m-experiment/agent/.venv/lib/python3.12/site-packages/pyspark/sql/connect/client/core.py\", \"line\": \"2055\"}, {\"class\": null, \"method\": \"__call__\", \"file\": \"/Users/stuart.lynn/Projects/u2m-experiment/agent/.venv/lib/python3.12/site-packages/grpc/_interceptor.py\", \"line\": \"277\"}, {\"class\": null, \"method\": \"_with_call\", \"file\": \"/Users/stuart.lynn/Projects/u2m-experiment/agent/.venv/lib/python3.12/site-packages/grpc/_interceptor.py\", \"line\": \"332\"}, {\"class\": null, \"method\": \"result\", \"file\": \"/Users/stuart.lynn/Projects/u2m-experiment/agent/.venv/lib/python3.12/site-packages/grpc/_channel.py\", \"line\": \"440\"}, {\"class\": null, \"method\": \"continuation\", \"file\": \"/Users/stuart.lynn/Projects/u2m-experiment/agent/.venv/lib/python3.12/site-packages/grpc/_interceptor.py\", \"line\": \"315\"}, {\"class\": null, \"method\": \"with_call\", \"file\": \"/Users/stuart.lynn/Projects/u2m-experiment/agent/.venv/lib/python3.12/site-packages/grpc/_channel.py\", \"line\": \"1192\"}, {\"class\": null, \"method\": \"_end_unary_response_blocking\", \"file\": \"/Users/stuart.lynn/Projects/u2m-experiment/agent/.venv/lib/python3.12/site-packages/grpc/_channel.py\", \"line\": \"1006\"}]}}\n",
      "ERROR:pyspark.sql.connect.client.logging:GRPC Error received\n",
      "Traceback (most recent call last):\n",
      "  File \"/Users/stuart.lynn/Projects/u2m-experiment/agent/.venv/lib/python3.12/site-packages/pyspark/sql/connect/client/core.py\", line 2055, in config\n",
      "    resp = self._stub.Config(req, metadata=self.metadata())\n",
      "           ^^^^^^^^^^^^^^^^^^^^^^^^^^^^^^^^^^^^^^^^^^^^^^^^\n",
      "  File \"/Users/stuart.lynn/Projects/u2m-experiment/agent/.venv/lib/python3.12/site-packages/grpc/_interceptor.py\", line 277, in __call__\n",
      "    response, ignored_call = self._with_call(\n",
      "                             ^^^^^^^^^^^^^^^^\n",
      "  File \"/Users/stuart.lynn/Projects/u2m-experiment/agent/.venv/lib/python3.12/site-packages/grpc/_interceptor.py\", line 332, in _with_call\n",
      "    return call.result(), call\n",
      "           ^^^^^^^^^^^^^\n",
      "  File \"/Users/stuart.lynn/Projects/u2m-experiment/agent/.venv/lib/python3.12/site-packages/grpc/_channel.py\", line 440, in result\n",
      "    raise self\n",
      "  File \"/Users/stuart.lynn/Projects/u2m-experiment/agent/.venv/lib/python3.12/site-packages/grpc/_interceptor.py\", line 315, in continuation\n",
      "    response, call = self._thunk(new_method).with_call(\n",
      "                     ^^^^^^^^^^^^^^^^^^^^^^^^^^^^^^^^^^\n",
      "  File \"/Users/stuart.lynn/Projects/u2m-experiment/agent/.venv/lib/python3.12/site-packages/grpc/_channel.py\", line 1192, in with_call\n",
      "    return _end_unary_response_blocking(state, call, True, None)\n",
      "           ^^^^^^^^^^^^^^^^^^^^^^^^^^^^^^^^^^^^^^^^^^^^^^^^^^^^^\n",
      "  File \"/Users/stuart.lynn/Projects/u2m-experiment/agent/.venv/lib/python3.12/site-packages/grpc/_channel.py\", line 1006, in _end_unary_response_blocking\n",
      "    raise _InactiveRpcError(state)  # pytype: disable=not-instantiable\n",
      "    ^^^^^^^^^^^^^^^^^^^^^^^^^^^^^^\n",
      "grpc._channel._InactiveRpcError: <_InactiveRpcError of RPC that terminated with:\n",
      "\tstatus = StatusCode.INTERNAL\n",
      "\tdetails = \"[CONFIG_NOT_AVAILABLE] Configuration spark.mlflow.modelRegistryUri is not available. SQLSTATE: 42K0I\"\n",
      "\tdebug_error_string = \"UNKNOWN:Error received from peer  {grpc_status:13, grpc_message:\"[CONFIG_NOT_AVAILABLE] Configuration spark.mlflow.modelRegistryUri is not available. SQLSTATE: 42K0I\"}\"\n",
      ">\n",
      "{\"ts\": \"2025-08-19 13:22:20.615\", \"level\": \"ERROR\", \"logger\": \"pyspark.sql.connect.client.logging\", \"msg\": \"GRPC Error received\", \"context\": {}, \"exception\": {\"class\": \"_InactiveRpcError\", \"msg\": \"<_InactiveRpcError of RPC that terminated with:\\n\\tstatus = StatusCode.INTERNAL\\n\\tdetails = \\\"[CONFIG_NOT_AVAILABLE] Configuration spark.mlflow.modelRegistryUri is not available. SQLSTATE: 42K0I\\\"\\n\\tdebug_error_string = \\\"UNKNOWN:Error received from peer  {grpc_status:13, grpc_message:\\\"[CONFIG_NOT_AVAILABLE] Configuration spark.mlflow.modelRegistryUri is not available. SQLSTATE: 42K0I\\\"}\\\"\\n>\", \"stacktrace\": [{\"class\": null, \"method\": \"config\", \"file\": \"/Users/stuart.lynn/Projects/u2m-experiment/agent/.venv/lib/python3.12/site-packages/pyspark/sql/connect/client/core.py\", \"line\": \"2055\"}, {\"class\": null, \"method\": \"__call__\", \"file\": \"/Users/stuart.lynn/Projects/u2m-experiment/agent/.venv/lib/python3.12/site-packages/grpc/_interceptor.py\", \"line\": \"277\"}, {\"class\": null, \"method\": \"_with_call\", \"file\": \"/Users/stuart.lynn/Projects/u2m-experiment/agent/.venv/lib/python3.12/site-packages/grpc/_interceptor.py\", \"line\": \"332\"}, {\"class\": null, \"method\": \"result\", \"file\": \"/Users/stuart.lynn/Projects/u2m-experiment/agent/.venv/lib/python3.12/site-packages/grpc/_channel.py\", \"line\": \"440\"}, {\"class\": null, \"method\": \"continuation\", \"file\": \"/Users/stuart.lynn/Projects/u2m-experiment/agent/.venv/lib/python3.12/site-packages/grpc/_interceptor.py\", \"line\": \"315\"}, {\"class\": null, \"method\": \"with_call\", \"file\": \"/Users/stuart.lynn/Projects/u2m-experiment/agent/.venv/lib/python3.12/site-packages/grpc/_channel.py\", \"line\": \"1192\"}, {\"class\": null, \"method\": \"_end_unary_response_blocking\", \"file\": \"/Users/stuart.lynn/Projects/u2m-experiment/agent/.venv/lib/python3.12/site-packages/grpc/_channel.py\", \"line\": \"1006\"}]}}\n",
      "{\"ts\": \"2025-08-19 13:22:20.615\", \"level\": \"ERROR\", \"logger\": \"pyspark.sql.connect.client.logging\", \"msg\": \"GRPC Error received\", \"context\": {}, \"exception\": {\"class\": \"_InactiveRpcError\", \"msg\": \"<_InactiveRpcError of RPC that terminated with:\\n\\tstatus = StatusCode.INTERNAL\\n\\tdetails = \\\"[CONFIG_NOT_AVAILABLE] Configuration spark.mlflow.modelRegistryUri is not available. SQLSTATE: 42K0I\\\"\\n\\tdebug_error_string = \\\"UNKNOWN:Error received from peer  {grpc_status:13, grpc_message:\\\"[CONFIG_NOT_AVAILABLE] Configuration spark.mlflow.modelRegistryUri is not available. SQLSTATE: 42K0I\\\"}\\\"\\n>\", \"stacktrace\": [{\"class\": null, \"method\": \"config\", \"file\": \"/Users/stuart.lynn/Projects/u2m-experiment/agent/.venv/lib/python3.12/site-packages/pyspark/sql/connect/client/core.py\", \"line\": \"2055\"}, {\"class\": null, \"method\": \"__call__\", \"file\": \"/Users/stuart.lynn/Projects/u2m-experiment/agent/.venv/lib/python3.12/site-packages/grpc/_interceptor.py\", \"line\": \"277\"}, {\"class\": null, \"method\": \"_with_call\", \"file\": \"/Users/stuart.lynn/Projects/u2m-experiment/agent/.venv/lib/python3.12/site-packages/grpc/_interceptor.py\", \"line\": \"332\"}, {\"class\": null, \"method\": \"result\", \"file\": \"/Users/stuart.lynn/Projects/u2m-experiment/agent/.venv/lib/python3.12/site-packages/grpc/_channel.py\", \"line\": \"440\"}, {\"class\": null, \"method\": \"continuation\", \"file\": \"/Users/stuart.lynn/Projects/u2m-experiment/agent/.venv/lib/python3.12/site-packages/grpc/_interceptor.py\", \"line\": \"315\"}, {\"class\": null, \"method\": \"with_call\", \"file\": \"/Users/stuart.lynn/Projects/u2m-experiment/agent/.venv/lib/python3.12/site-packages/grpc/_channel.py\", \"line\": \"1192\"}, {\"class\": null, \"method\": \"_end_unary_response_blocking\", \"file\": \"/Users/stuart.lynn/Projects/u2m-experiment/agent/.venv/lib/python3.12/site-packages/grpc/_channel.py\", \"line\": \"1006\"}]}}\n",
      "ERROR:pyspark.sql.connect.client.logging:GRPC Error received\n",
      "Traceback (most recent call last):\n",
      "  File \"/var/folders/dc/26swhtx91dq9n8mq66096qb00000gp/T/ipykernel_48337/270350975.py\", line 2, in <module>\n",
      "    prediction = AGENT.predict(input_example)\n",
      "                 ^^^^^^^^^^^^^^^^^^^^^^^^^^^^\n",
      "  File \"/Users/stuart.lynn/Projects/u2m-experiment/agent/.venv/lib/python3.12/site-packages/mlflow/pyfunc/utils/data_validation.py\", line 126, in wrapper\n",
      "    return func(self, *args, **kwargs)\n",
      "           ^^^^^^^^^^^^^^^^^^^^^^^^^^^\n",
      "  File \"/Users/stuart.lynn/Projects/u2m-experiment/agent/.venv/lib/python3.12/site-packages/mlflow/tracing/fluent.py\", line 246, in wrapper\n",
      "    with _WrappingContext(fn, args, kwargs) as wrapping_coro:\n",
      "         ^^^^^^^^^^^^^^^^^^^^^^^^^^^^^^^^^^\n",
      "  File \"/Users/stuart.lynn/Projects/u2m-experiment/agent/.venv/lib/python3.12/site-packages/mlflow/tracing/fluent.py\", line 235, in __exit__\n",
      "    self.coro.throw(exc_type, exc_value, traceback)\n",
      "  File \"/Users/stuart.lynn/Projects/u2m-experiment/agent/.venv/lib/python3.12/site-packages/mlflow/tracing/fluent.py\", line 214, in _wrapping_logic\n",
      "    result = yield  # sync/async function output to be sent here\n",
      "             ^^^^^\n",
      "  File \"/Users/stuart.lynn/Projects/u2m-experiment/agent/.venv/lib/python3.12/site-packages/mlflow/tracing/fluent.py\", line 247, in wrapper\n",
      "    return wrapping_coro.send(fn(*args, **kwargs))\n",
      "                              ^^^^^^^^^^^^^^^^^^^\n",
      "  File \"/Users/stuart.lynn/Projects/u2m-experiment/agent/src/agent.py\", line 62, in predict\n",
      "    for event in self.predict_stream(request)\n",
      "                 ^^^^^^^^^^^^^^^^^^^^^^^^^^^^\n",
      "  File \"<string>\", line 10, in predict_stream\n",
      "AttributeError: 'SimpleChatAgent' object has no attribute 'max_history_messages'\n",
      "\n",
      "During handling of the above exception, another exception occurred:\n",
      "\n",
      "Traceback (most recent call last):\n",
      "  File \"/Users/stuart.lynn/Projects/u2m-experiment/agent/.venv/lib/python3.12/site-packages/pyspark/sql/connect/client/core.py\", line 2055, in config\n",
      "    resp = self._stub.Config(req, metadata=self.metadata())\n",
      "           ^^^^^^^^^^^^^^^^^^^^^^^^^^^^^^^^^^^^^^^^^^^^^^^^\n",
      "  File \"/Users/stuart.lynn/Projects/u2m-experiment/agent/.venv/lib/python3.12/site-packages/grpc/_interceptor.py\", line 277, in __call__\n",
      "    response, ignored_call = self._with_call(\n",
      "                             ^^^^^^^^^^^^^^^^\n",
      "  File \"/Users/stuart.lynn/Projects/u2m-experiment/agent/.venv/lib/python3.12/site-packages/grpc/_interceptor.py\", line 332, in _with_call\n",
      "    return call.result(), call\n",
      "           ^^^^^^^^^^^^^\n",
      "  File \"/Users/stuart.lynn/Projects/u2m-experiment/agent/.venv/lib/python3.12/site-packages/grpc/_channel.py\", line 440, in result\n",
      "    raise self\n",
      "  File \"/Users/stuart.lynn/Projects/u2m-experiment/agent/.venv/lib/python3.12/site-packages/grpc/_interceptor.py\", line 315, in continuation\n",
      "    response, call = self._thunk(new_method).with_call(\n",
      "                     ^^^^^^^^^^^^^^^^^^^^^^^^^^^^^^^^^^\n",
      "  File \"/Users/stuart.lynn/Projects/u2m-experiment/agent/.venv/lib/python3.12/site-packages/grpc/_channel.py\", line 1192, in with_call\n",
      "    return _end_unary_response_blocking(state, call, True, None)\n",
      "           ^^^^^^^^^^^^^^^^^^^^^^^^^^^^^^^^^^^^^^^^^^^^^^^^^^^^^\n",
      "  File \"/Users/stuart.lynn/Projects/u2m-experiment/agent/.venv/lib/python3.12/site-packages/grpc/_channel.py\", line 1006, in _end_unary_response_blocking\n",
      "    raise _InactiveRpcError(state)  # pytype: disable=not-instantiable\n",
      "    ^^^^^^^^^^^^^^^^^^^^^^^^^^^^^^\n",
      "grpc._channel._InactiveRpcError: <_InactiveRpcError of RPC that terminated with:\n",
      "\tstatus = StatusCode.INTERNAL\n",
      "\tdetails = \"[CONFIG_NOT_AVAILABLE] Configuration spark.mlflow.modelRegistryUri is not available. SQLSTATE: 42K0I\"\n",
      "\tdebug_error_string = \"UNKNOWN:Error received from peer  {grpc_status:13, grpc_message:\"[CONFIG_NOT_AVAILABLE] Configuration spark.mlflow.modelRegistryUri is not available. SQLSTATE: 42K0I\"}\"\n",
      ">\n"
     ]
    },
    {
     "ename": "",
     "evalue": "",
     "output_type": "error",
     "traceback": [
      "\u001b[1;31mThe Kernel crashed while executing code in the current cell or a previous cell. \n",
      "\u001b[1;31mPlease review the code in the cell(s) to identify a possible cause of the failure. \n",
      "\u001b[1;31mClick <a href='https://aka.ms/vscodeJupyterKernelCrash'>here</a> for more info. \n",
      "\u001b[1;31mView Jupyter <a href='command:jupyter.viewOutput'>log</a> for further details."
     ]
    }
   ],
   "source": [
    "with mlflow.start_run():\n",
    "    AGENT.predict(input_example)"
   ]
  },
  {
   "cell_type": "code",
   "execution_count": 0,
   "metadata": {
    "application/vnd.databricks.v1+cell": {
     "cellMetadata": {
      "byteLimit": 2048000,
      "rowLimit": 10000
     },
     "inputWidgets": {},
     "nuid": "949dc05f-89f2-4266-aa6a-10c740576ca1",
     "showTitle": false,
     "tableResultSettingsMap": {},
     "title": ""
    }
   },
   "outputs": [],
   "source": [
    "resources = [mlflow.models.resources.DatabricksServingEndpoint(endpoint_name=LLM_ENDPOINT_NAME)]"
   ]
  },
  {
   "cell_type": "code",
   "execution_count": 0,
   "metadata": {
    "application/vnd.databricks.v1+cell": {
     "cellMetadata": {
      "byteLimit": 2048000,
      "rowLimit": 10000
     },
     "inputWidgets": {},
     "nuid": "3e67366f-dcc7-4fd5-8afb-f89c67351bfc",
     "showTitle": false,
     "tableResultSettingsMap": {},
     "title": ""
    }
   },
   "outputs": [],
   "source": [
    "mlflow.set_tracking_uri(\"databricks\")\n",
    "mlflow.set_experiment(\"/Workspace/Users/stuart.lynn@databricks.com/u2m-experiment\")\n",
    "\n",
    "with mlflow.start_run():\n",
    "    logged_agent_info = mlflow.pyfunc.log_model(\n",
    "        name=\"agent\",\n",
    "        python_model=\"agent.py\",\n",
    "        input_example=input_example,\n",
    "        resources=resources,\n",
    "        extra_pip_requirements=[\n",
    "            f\"databricks-langchain=={pkg_resources.get_distribution('databricks-langchain').version}\",\n",
    "            f\"langchain-core=={pkg_resources.get_distribution('langchain-core').version}\",\n",
    "            f\"databricks-sdk=={pkg_resources.get_distribution('databricks-sdk').version}\",\n",
    "            f\"mlflow[databricks]=={pkg_resources.get_distribution('mlflow').version}\",\n",
    "        ]\n",
    "    )"
   ]
  },
  {
   "cell_type": "code",
   "execution_count": 0,
   "metadata": {
    "application/vnd.databricks.v1+cell": {
     "cellMetadata": {
      "byteLimit": 2048000,
      "rowLimit": 10000
     },
     "inputWidgets": {},
     "nuid": "5c715426-519b-4c8c-b1c1-9ac693b7a592",
     "showTitle": false,
     "tableResultSettingsMap": {},
     "title": ""
    }
   },
   "outputs": [],
   "source": [
    "loaded_model = mlflow.pyfunc.load_model(f\"runs:/{logged_agent_info.run_id}/agent\")\n",
    "loaded_model.predict(input_example)"
   ]
  },
  {
   "cell_type": "code",
   "execution_count": 0,
   "metadata": {
    "application/vnd.databricks.v1+cell": {
     "cellMetadata": {},
     "inputWidgets": {},
     "nuid": "e67a3160-d874-4eb5-a52a-f96f86b1dea5",
     "showTitle": false,
     "tableResultSettingsMap": {},
     "title": ""
    }
   },
   "outputs": [],
   "source": [
    "mlflow.models.predict(logged_agent_info.model_uri, input_example, env_manager=\"uv\")"
   ]
  },
  {
   "cell_type": "code",
   "execution_count": 0,
   "metadata": {
    "application/vnd.databricks.v1+cell": {
     "cellMetadata": {
      "byteLimit": 2048000,
      "rowLimit": 10000
     },
     "inputWidgets": {},
     "nuid": "b6ad6d3c-42a8-4b7a-96cd-9fded82e7b7b",
     "showTitle": false,
     "tableResultSettingsMap": {},
     "title": ""
    }
   },
   "outputs": [],
   "source": [
    "mlflow.models.predict(logged_agent_info.model_uri, input_example_extra_params, env_manager=\"uv\")"
   ]
  },
  {
   "cell_type": "code",
   "execution_count": 0,
   "metadata": {
    "application/vnd.databricks.v1+cell": {
     "cellMetadata": {
      "byteLimit": 2048000,
      "implicitDf": true,
      "rowLimit": 10000
     },
     "inputWidgets": {},
     "nuid": "c37f1e9e-3ed1-432a-9999-9cf665bac662",
     "showTitle": false,
     "tableResultSettingsMap": {},
     "title": ""
    }
   },
   "outputs": [],
   "source": [
    "%sql\n",
    "CREATE CATALOG IF NOT EXISTS stuart;\n",
    "CREATE SCHEMA IF NOT EXISTS stuart.authtest;"
   ]
  },
  {
   "cell_type": "code",
   "execution_count": 0,
   "metadata": {
    "application/vnd.databricks.v1+cell": {
     "cellMetadata": {
      "byteLimit": 2048000,
      "rowLimit": 10000
     },
     "inputWidgets": {},
     "nuid": "aca47e3a-2e30-4997-b2d3-bf1e32818003",
     "showTitle": false,
     "tableResultSettingsMap": {},
     "title": ""
    }
   },
   "outputs": [],
   "source": [
    "mlflow.set_registry_uri(\"databricks-uc\")\n",
    "\n",
    "registered_model = mlflow.register_model(\n",
    "    model_uri=logged_agent_info.model_uri,\n",
    "    name=\"stuart.authtest.agent\"\n",
    ")"
   ]
  },
  {
   "cell_type": "code",
   "execution_count": 0,
   "metadata": {
    "application/vnd.databricks.v1+cell": {
     "cellMetadata": {
      "byteLimit": 2048000,
      "rowLimit": 10000
     },
     "inputWidgets": {},
     "nuid": "207f4e1d-162e-4b6a-8f6e-fe40e66f920f",
     "showTitle": false,
     "tableResultSettingsMap": {},
     "title": ""
    }
   },
   "outputs": [],
   "source": [
    "import databricks.agents\n",
    "\n",
    "endpoint_name = \"custom-agent-endpoint\"\n",
    "\n",
    "databricks.agents.deploy(\n",
    "    model_name=registered_model.name,\n",
    "    model_version=registered_model.version,\n",
    "    scale_to_zero=True,\n",
    "    endpoint_name=endpoint_name,\n",
    ")"
   ]
  }
 ],
 "metadata": {
  "application/vnd.databricks.v1+notebook": {
   "computePreferences": null,
   "dashboards": [],
   "environmentMetadata": null,
   "inputWidgetPreferences": null,
   "language": "python",
   "notebookMetadata": {
    "pythonIndentUnit": 4
   },
   "notebookName": "log-and-deploy",
   "widgets": {}
  },
  "kernelspec": {
   "display_name": ".venv",
   "language": "python",
   "name": "python3"
  },
  "language_info": {
   "name": "python"
  }
 },
 "nbformat": 4,
 "nbformat_minor": 0
}
