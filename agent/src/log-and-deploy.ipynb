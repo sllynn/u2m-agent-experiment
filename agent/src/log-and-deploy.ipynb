{
 "cells": [
  {
   "cell_type": "code",
   "execution_count": 33,
   "id": "35f2846c",
   "metadata": {},
   "outputs": [],
   "source": [
    "import mlflow\n",
    "import pkg_resources\n",
    "\n",
    "from mlflow.types.responses import ResponsesAgentRequest\n",
    "\n",
    "from agent import LLM_ENDPOINT_NAME, AGENT"
   ]
  },
  {
   "cell_type": "code",
   "execution_count": 26,
   "id": "7761c7e4",
   "metadata": {},
   "outputs": [],
   "source": [
    "input_example = {\"input\": [{\"role\": \"user\", \"content\": \"How many Rs in strawberry?\"}]}\n",
    "# input_example = ResponsesAgentRequest(input=[{\"role\": \"user\", \"content\": \"How many Rs in strawberry?\"}])"
   ]
  },
  {
   "cell_type": "code",
   "execution_count": 35,
   "id": "834ade5b",
   "metadata": {},
   "outputs": [
    {
     "name": "stdout",
     "output_type": "stream",
     "text": [
      "🏃 View run unique-donkey-737 at: https://adb-3636121482767679.19.azuredatabricks.net/ml/experiments/4353845366834577/runs/c40a629dff0346c6bbf4c9914e719690\n",
      "🧪 View experiment at: https://adb-3636121482767679.19.azuredatabricks.net/ml/experiments/4353845366834577\n"
     ]
    }
   ],
   "source": [
    "with mlflow.start_run():\n",
    "    AGENT.predict(input_example)"
   ]
  },
  {
   "cell_type": "code",
   "execution_count": 11,
   "id": "fe268460",
   "metadata": {},
   "outputs": [],
   "source": [
    "resources = [mlflow.models.resources.DatabricksServingEndpoint(endpoint_name=LLM_ENDPOINT_NAME)]"
   ]
  },
  {
   "cell_type": "code",
   "execution_count": 27,
   "id": "f18f82c4",
   "metadata": {},
   "outputs": [
    {
     "name": "stderr",
     "output_type": "stream",
     "text": [
      "2025/08/19 12:02:30 INFO mlflow.pyfunc: Predicting on input example to validate output\n",
      "2025/08/19 12:02:36 INFO mlflow.models.model: Found the following environment variables used during model inference: [DATABRICKS_HOST]. Please check if you need to set them when deploying the model. To disable this message, set environment variable `MLFLOW_RECORD_ENV_VARS_IN_MODEL_LOGGING` to `false`.\n"
     ]
    },
    {
     "name": "stdout",
     "output_type": "stream",
     "text": [
      "🏃 View run salty-eel-245 at: https://adb-3636121482767679.19.azuredatabricks.net/ml/experiments/4353845366834577/runs/8201cf97685b45e88b6547e962837267\n",
      "🧪 View experiment at: https://adb-3636121482767679.19.azuredatabricks.net/ml/experiments/4353845366834577\n"
     ]
    }
   ],
   "source": [
    "mlflow.set_tracking_uri(\"databricks://test-azure\")\n",
    "mlflow.set_experiment(\"/Workspace/Users/stuart.lynn@databricks.com/u2m-experiment\")\n",
    "\n",
    "with mlflow.start_run():\n",
    "    logged_agent_info = mlflow.pyfunc.log_model(\n",
    "        name=\"agent\",\n",
    "        python_model=\"agent.py\",\n",
    "        input_example=input_example,\n",
    "        resources=resources,\n",
    "        extra_pip_requirements=[\n",
    "            f\"databricks-langchain=={pkg_resources.get_distribution('databricks-langchain').version}\",\n",
    "            f\"langchain-core=={pkg_resources.get_distribution('langchain-core').version}\",\n",
    "            f\"databricks-sdk=={pkg_resources.get_distribution('databricks-sdk').version}\",\n",
    "            f\"mlflow[databricks]=={pkg_resources.get_distribution('mlflow').version}\",\n",
    "        ]\n",
    "    )"
   ]
  },
  {
   "cell_type": "code",
   "execution_count": 30,
   "id": "a447df31",
   "metadata": {},
   "outputs": [
    {
     "name": "stderr",
     "output_type": "stream",
     "text": [
      "Downloading artifacts:   0%|          | 0/1 [00:00<?, ?it/s]\n",
      "Downloading artifacts: 100%|██████████| 9/9 [00:00<00:00, 19.89it/s]   \n"
     ]
    },
    {
     "data": {
      "text/plain": [
       "{'object': 'response', 'output': []}"
      ]
     },
     "execution_count": 30,
     "metadata": {},
     "output_type": "execute_result"
    }
   ],
   "source": [
    "loaded_model = mlflow.pyfunc.load_model(f\"runs:/{logged_agent_info.run_id}/agent\")\n",
    "loaded_model.predict(input_example)"
   ]
  },
  {
   "cell_type": "code",
   "execution_count": null,
   "id": "1339e706",
   "metadata": {},
   "outputs": [
    {
     "data": {
      "text/plain": [
       "'models:/m-be264c110dd6444584568a79f1561c51'"
      ]
     },
     "execution_count": 29,
     "metadata": {},
     "output_type": "execute_result"
    }
   ],
   "source": [
    "mlflow.models.predict(logged_agent_info.model_uri, input_example, env_manager=\"uv\")"
   ]
  }
 ],
 "metadata": {
  "kernelspec": {
   "display_name": ".venv",
   "language": "python",
   "name": "python3"
  },
  "language_info": {
   "codemirror_mode": {
    "name": "ipython",
    "version": 3
   },
   "file_extension": ".py",
   "mimetype": "text/x-python",
   "name": "python",
   "nbconvert_exporter": "python",
   "pygments_lexer": "ipython3",
   "version": "3.12.11"
  }
 },
 "nbformat": 4,
 "nbformat_minor": 5
}
